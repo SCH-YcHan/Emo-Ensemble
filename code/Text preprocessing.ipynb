{
 "cells": [
  {
   "cell_type": "code",
   "execution_count": 1,
   "id": "51986b1b",
   "metadata": {},
   "outputs": [],
   "source": [
    "import os\n",
    "import numpy as np\n",
    "import pandas as pd"
   ]
  },
  {
   "cell_type": "code",
   "execution_count": 2,
   "id": "f8b1d1df",
   "metadata": {},
   "outputs": [],
   "source": [
    "train = pd.read_csv(\"../../KEMDy20_v1_1/Splitting/Train.csv\")\n",
    "test = pd.read_csv(\"../../KEMDy20_v1_1/Splitting/Test.csv\")\n",
    "train_origin = pd.read_csv(\"../../KEMDy20_v1_1/Splitting/Train_Origin.csv\")\n",
    "test_origin = pd.read_csv(\"../../KEMDy20_v1_1/Splitting/Test_Origin.csv\")\n",
    "aug_an_file_path = \"../../AI_hub/annotation/5차년도_2차.csv\""
   ]
  },
  {
   "cell_type": "code",
   "execution_count": null,
   "id": "29ea0534",
   "metadata": {},
   "outputs": [],
   "source": [
    "aug_an_file = pd.read_csv(aug_an_file_path, encoding=\"cp949\")"
   ]
  },
  {
   "cell_type": "code",
   "execution_count": null,
   "id": "a342982d",
   "metadata": {},
   "outputs": [],
   "source": [
    "train_text_list = []\n",
    "for path in train[\"Path\"]:\n",
    "    if path.split(\"/\")[2]==\"AI_hub\":\n",
    "        wav_id = path.split(\"/\")[4][:-4]\n",
    "        train_text_list.append(aug_an_file[aug_an_file[\"wav_id\"]==wav_id][\"발화문\"].values[0])\n",
    "    else:\n",
    "        with open(path[:-4]+\".txt\", \"r\") as f:\n",
    "            text = f.read()\n",
    "            train_text_list.append(text)"
   ]
  },
  {
   "cell_type": "code",
   "execution_count": null,
   "id": "09c0440b",
   "metadata": {},
   "outputs": [],
   "source": [
    "train[\"Text\"] = train_text_list"
   ]
  },
  {
   "cell_type": "code",
   "execution_count": 3,
   "id": "3bc40d8a",
   "metadata": {},
   "outputs": [],
   "source": [
    "train_origin_text_list = []\n",
    "for path in train_origin[\"Path\"]:\n",
    "    with open(path[:-4]+\".txt\", \"r\") as f:\n",
    "        text = f.read()\n",
    "        train_origin_text_list.append(text)"
   ]
  },
  {
   "cell_type": "code",
   "execution_count": 4,
   "id": "dd174934",
   "metadata": {},
   "outputs": [],
   "source": [
    "train_origin[\"Text\"] = train_origin_text_list"
   ]
  },
  {
   "cell_type": "code",
   "execution_count": null,
   "id": "72e15653",
   "metadata": {},
   "outputs": [],
   "source": [
    "test_text_list = []\n",
    "for path in test[\"Path\"]:\n",
    "    if path.split(\"/\")[2]==\"AI_hub\":\n",
    "        wav_id = path.split(\"/\")[4][:-4]\n",
    "        test_text_list.append(aug_an_file[aug_an_file[\"wav_id\"]==wav_id][\"발화문\"].values[0])\n",
    "    else:\n",
    "        with open(path[:-4]+\".txt\", \"r\") as f:\n",
    "            text = f.read()\n",
    "            test_text_list.append(text)"
   ]
  },
  {
   "cell_type": "code",
   "execution_count": null,
   "id": "238493b9",
   "metadata": {},
   "outputs": [],
   "source": [
    "test[\"Text\"] = test_text_list"
   ]
  },
  {
   "cell_type": "code",
   "execution_count": 5,
   "id": "5bbed448",
   "metadata": {},
   "outputs": [],
   "source": [
    "test_origin_text_list = []\n",
    "for path in test_origin[\"Path\"]:\n",
    "    with open(path[:-4]+\".txt\", \"r\") as f:\n",
    "        text = f.read()\n",
    "        test_origin_text_list.append(text)"
   ]
  },
  {
   "cell_type": "code",
   "execution_count": 6,
   "id": "60e40356",
   "metadata": {},
   "outputs": [],
   "source": [
    "test_origin[\"Text\"] = test_origin_text_list"
   ]
  },
  {
   "cell_type": "code",
   "execution_count": 7,
   "id": "c8459a30",
   "metadata": {},
   "outputs": [],
   "source": [
    "save_file_path = \"../../KEMDy20_v1_1/Text/\"\n",
    "if not os.path.exists(save_file_path):\n",
    "    os.mkdir(save_file_path)"
   ]
  },
  {
   "cell_type": "code",
   "execution_count": null,
   "id": "f7647431",
   "metadata": {},
   "outputs": [],
   "source": [
    "train[[\"Text\", \"Emotion\"]].to_csv(save_file_path+\"Train.csv\", index=False, encoding=\"euc-kr\")\n",
    "test[[\"Text\", \"Emotion\"]].to_csv(save_file_path+\"Test.csv\", index=False, encoding=\"euc-kr\")"
   ]
  },
  {
   "cell_type": "code",
   "execution_count": 8,
   "id": "01b13768",
   "metadata": {},
   "outputs": [],
   "source": [
    "train_origin[[\"Text\", \"Emotion\"]].to_csv(save_file_path+\"Train_Origin.csv\", index=False, encoding=\"euc-kr\")\n",
    "test_origin[[\"Text\", \"Emotion\"]].to_csv(save_file_path+\"Test_Origin.csv\", index=False, encoding=\"euc-kr\")"
   ]
  },
  {
   "cell_type": "code",
   "execution_count": null,
   "id": "55033666",
   "metadata": {},
   "outputs": [],
   "source": []
  }
 ],
 "metadata": {
  "kernelspec": {
   "display_name": "Python 3",
   "language": "python",
   "name": "python3"
  },
  "language_info": {
   "codemirror_mode": {
    "name": "ipython",
    "version": 3
   },
   "file_extension": ".py",
   "mimetype": "text/x-python",
   "name": "python",
   "nbconvert_exporter": "python",
   "pygments_lexer": "ipython3",
   "version": "3.6.13"
  }
 },
 "nbformat": 4,
 "nbformat_minor": 5
}
