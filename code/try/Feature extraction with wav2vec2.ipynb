{
 "cells": [
  {
   "cell_type": "code",
   "execution_count": 11,
   "id": "6a28ac73",
   "metadata": {},
   "outputs": [],
   "source": [
    "import os\n",
    "import ast\n",
    "import pickle\n",
    "\n",
    "from datasets import load_dataset, load_metric\n",
    "from transformers import Wav2Vec2Processor, Wav2Vec2FeatureExtractor"
   ]
  },
  {
   "cell_type": "code",
   "execution_count": 12,
   "id": "0df8ef89",
   "metadata": {},
   "outputs": [],
   "source": [
    "data_files = {\n",
    "    \"train\": \"../../KEMDy20_v1_1/Splitting/Train.csv\",\n",
    "    \"test\": \"../../KEMDy20_v1_1/Splitting/Test.csv\",\n",
    "    \"train_aug\": \"../../KEMDy20_v1_1/Splitting/Train_aug.csv\"\n",
    "}"
   ]
  },
  {
   "cell_type": "code",
   "execution_count": 13,
   "id": "509bd8e9",
   "metadata": {},
   "outputs": [
    {
     "name": "stderr",
     "output_type": "stream",
     "text": [
      "Found cached dataset csv (C:/Users/Yechani/.cache/huggingface/datasets/csv/default-d6b4b419863ca901/0.0.0/6954658bab30a358235fa864b05cf819af0e179325c740e4bc853bcc7ec513e1)\n"
     ]
    },
    {
     "data": {
      "application/vnd.jupyter.widget-view+json": {
       "model_id": "69ff91db5e224ef1a3b7953f8293991c",
       "version_major": 2,
       "version_minor": 0
      },
      "text/plain": [
       "  0%|          | 0/3 [00:00<?, ?it/s]"
      ]
     },
     "metadata": {},
     "output_type": "display_data"
    },
    {
     "name": "stdout",
     "output_type": "stream",
     "text": [
      "Dataset({\n",
      "    features: ['Emotion', 'Path'],\n",
      "    num_rows: 10391\n",
      "})\n",
      "Dataset({\n",
      "    features: ['Emotion', 'Path'],\n",
      "    num_rows: 2437\n",
      "})\n",
      "Dataset({\n",
      "    features: ['Emotion', 'Path'],\n",
      "    num_rows: 29765\n",
      "})\n"
     ]
    }
   ],
   "source": [
    "dataset = load_dataset(\"csv\", data_files = data_files)\n",
    "train_dataset = dataset[\"train\"]\n",
    "test_dataset = dataset[\"test\"]\n",
    "train_aug_dataset = dataset[\"train_aug\"]\n",
    "\n",
    "print(train_dataset)\n",
    "print(test_dataset)\n",
    "print(train_aug_dataset)"
   ]
  },
  {
   "cell_type": "code",
   "execution_count": 14,
   "id": "3879d8b6",
   "metadata": {},
   "outputs": [],
   "source": [
    "import torch\n",
    "import torchaudio\n",
    "import torchaudio.transforms as T\n",
    "import librosa\n",
    "import IPython.display as ipd\n",
    "import numpy as np\n",
    "\n",
    "input_column = \"Path\"\n",
    "\n",
    "model_name = \"kresnik/wav2vec2-large-xlsr-korean\""
   ]
  },
  {
   "cell_type": "code",
   "execution_count": 15,
   "id": "f1a86b01",
   "metadata": {},
   "outputs": [
    {
     "name": "stderr",
     "output_type": "stream",
     "text": [
      "Special tokens have been added in the vocabulary, make sure the associated word embeddings are fine-tuned or trained.\n"
     ]
    }
   ],
   "source": [
    "processor = Wav2Vec2Processor.from_pretrained(model_name)\n",
    "processor.feature_extractor.return_attention_mask = False\n",
    "target_sampling_rate = processor.feature_extractor.sampling_rate"
   ]
  },
  {
   "cell_type": "code",
   "execution_count": 16,
   "id": "792314bd",
   "metadata": {},
   "outputs": [],
   "source": [
    "def speech_file_to_array_fn(path):\n",
    "    speech_array, sampling_rate = torchaudio.load(path)\n",
    "    resampler = torchaudio.transforms.Resample(sampling_rate, target_sampling_rate)\n",
    "    speech = resampler(speech_array).squeeze()\n",
    "    fixed_length = 100000\n",
    "    speech_length = speech.size()[0]\n",
    "    if speech_length < fixed_length:\n",
    "        pad_length = fixed_length - speech_length\n",
    "        speech = torch.cat([speech, torch.zeros(pad_length)], dim=0)\n",
    "    elif speech_length > fixed_length:\n",
    "        speech = speech[:fixed_length]\n",
    "    return speech.numpy()\n",
    "\n",
    "def preprocess_function(examples):\n",
    "    speech_list = [speech_file_to_array_fn(path) for path in examples[input_column]]\n",
    "    result = processor(speech_list,\n",
    "                       sampling_rate=target_sampling_rate)\n",
    "    return result"
   ]
  },
  {
   "cell_type": "code",
   "execution_count": 17,
   "id": "8b5ccb9b",
   "metadata": {},
   "outputs": [],
   "source": [
    "train_dataset_ex = preprocess_function(train_dataset)\n",
    "test_dataset_ex = preprocess_function(test_dataset)\n",
    "train_aug_dataset_ex = preprocess_function(train_aug_dataset)"
   ]
  },
  {
   "cell_type": "code",
   "execution_count": 18,
   "id": "28e28d68",
   "metadata": {},
   "outputs": [],
   "source": [
    "train_x = np.vstack(train_dataset_ex[\"input_values\"])\n",
    "test_x = np.vstack(test_dataset_ex[\"input_values\"])\n",
    "train_aug_x = np.vstack(train_aug_dataset_ex[\"input_values\"])"
   ]
  },
  {
   "cell_type": "code",
   "execution_count": 19,
   "id": "87650a36",
   "metadata": {},
   "outputs": [],
   "source": [
    "save_path = \"../../KEMDy20_v1_1/Extract/\"\n",
    "if not os.path.exists(save_path):\n",
    "    os.mkdir(save_path)"
   ]
  },
  {
   "cell_type": "code",
   "execution_count": 20,
   "id": "c75c89cd",
   "metadata": {},
   "outputs": [],
   "source": [
    "np.savez(save_path+\"Dataset\",\n",
    "         train_x = train_x,\n",
    "         train_y = train_dataset[\"Emotion\"],\n",
    "         test_x = test_x,\n",
    "         test_y = test_dataset[\"Emotion\"],\n",
    "         train_aug_x = train_aug_x,\n",
    "         train_aug_y = train_aug_dataset[\"Emotion\"]\n",
    "         )"
   ]
  },
  {
   "cell_type": "code",
   "execution_count": null,
   "id": "fe6f8765",
   "metadata": {},
   "outputs": [],
   "source": []
  }
 ],
 "metadata": {
  "kernelspec": {
   "display_name": "Python 3 (ipykernel)",
   "language": "python",
   "name": "python3"
  },
  "language_info": {
   "codemirror_mode": {
    "name": "ipython",
    "version": 3
   },
   "file_extension": ".py",
   "mimetype": "text/x-python",
   "name": "python",
   "nbconvert_exporter": "python",
   "pygments_lexer": "ipython3",
   "version": "3.9.16"
  }
 },
 "nbformat": 4,
 "nbformat_minor": 5
}
