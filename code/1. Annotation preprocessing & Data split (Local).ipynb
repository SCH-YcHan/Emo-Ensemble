{
 "cells": [
  {
   "cell_type": "markdown",
   "id": "a33ec1c9",
   "metadata": {},
   "source": [
    "## Package load"
   ]
  },
  {
   "cell_type": "code",
   "execution_count": null,
   "id": "5618fab3",
   "metadata": {},
   "outputs": [],
   "source": [
    "import numpy as np\n",
    "import pandas as pd\n",
    "\n",
    "from pathlib import Path\n",
    "from tqdm import tqdm\n",
    "\n",
    "import torchaudio\n",
    "from sklearn.model_selection import train_test_split\n",
    "\n",
    "import os\n",
    "import sys\n",
    "import copy\n",
    "import pickle"
   ]
  },
  {
   "cell_type": "markdown",
   "id": "8a897225",
   "metadata": {},
   "source": [
    "## Path setting (KEMDy20)"
   ]
  },
  {
   "cell_type": "code",
   "execution_count": 39,
   "id": "67e80e7d",
   "metadata": {},
   "outputs": [],
   "source": [
    "wav_folder_path = \"../../KEMDy20_v1_1/wav/\"\n",
    "an_folder_path = \"../../KEMDy20_v1_1/annotation/\""
   ]
  },
  {
   "cell_type": "markdown",
   "id": "5a1e2131",
   "metadata": {},
   "source": [
    "## wav file path load"
   ]
  },
  {
   "cell_type": "code",
   "execution_count": 40,
   "id": "7ee48c6f",
   "metadata": {},
   "outputs": [],
   "source": [
    "wav_file_paths = []\n",
    "for root, dirs, files in os.walk(wav_folder_path):\n",
    "    for file in files:\n",
    "        file_path = os.path.join(root, file)\n",
    "        if file_path.endswith(\".wav\"): # .wav 확장자만 저장\n",
    "            wav_file_paths.append(file_path)"
   ]
  },
  {
   "cell_type": "markdown",
   "id": "a6192b6f",
   "metadata": {},
   "source": [
    "## annotation file path load"
   ]
  },
  {
   "cell_type": "code",
   "execution_count": 41,
   "id": "f9d10bf8",
   "metadata": {},
   "outputs": [],
   "source": [
    "an_file_paths = [an_folder_path+i for i in os.listdir(an_folder_path)]"
   ]
  },
  {
   "cell_type": "markdown",
   "id": "9662bf99",
   "metadata": {},
   "source": [
    "## Train, Test split"
   ]
  },
  {
   "cell_type": "code",
   "execution_count": 42,
   "id": "ecd9ff91",
   "metadata": {},
   "outputs": [],
   "source": [
    "train_an_file_paths, test_an_file_paths = train_test_split(an_file_paths, test_size=0.2, random_state=42)"
   ]
  },
  {
   "cell_type": "markdown",
   "id": "d9d5c1db",
   "metadata": {},
   "source": [
    "## Add merge key to wav_path_df"
   ]
  },
  {
   "cell_type": "code",
   "execution_count": 43,
   "id": "1439cd44",
   "metadata": {},
   "outputs": [],
   "source": [
    "wav_path_df = pd.DataFrame(wav_file_paths, columns=[\"Path\"])\n",
    "wav_path_df[\"Segment ID\"] = wav_path_df[\"Path\"].apply(lambda x: x.split(\"\\\\\")[-1].split(\".\")[0])"
   ]
  },
  {
   "cell_type": "markdown",
   "id": "7fb775be",
   "metadata": {},
   "source": [
    "## Merge train annotation and wav file path"
   ]
  },
  {
   "cell_type": "code",
   "execution_count": 47,
   "id": "04373c87",
   "metadata": {},
   "outputs": [],
   "source": [
    "train_seg_eval_df_list = []\n",
    "    \n",
    "for an_file_path in train_an_file_paths:\n",
    "    file = pd.read_csv(an_file_path)\n",
    "    seg_eval = pd.concat([file.iloc[1:].filter(regex=\"^(Segment|Total)\"), file.iloc[1:,5:7]], axis=1)\n",
    "    seg_eval.columns = [\"Segment ID\", \"Total Evaluation\", \"Valence\", \"Arousal\"]\n",
    "    train_seg_eval_df_list.append(seg_eval)\n",
    "        \n",
    "train_seg_eval_df = pd.concat(train_seg_eval_df_list)\n",
    "train_seg_eval_df = train_seg_eval_df[~train_seg_eval_df[\"Total Evaluation\"].str.contains(\";\")]\n",
    "\n",
    "train_seg_eval_df = pd.merge(train_seg_eval_df, wav_path_df, on='Segment ID', how='left')\n",
    "        \n",
    "train_seg_eval_df.columns = [\"Segment ID\", \"Emotion\", \"Valence\", \"Arousal\", \"Path\"]\n",
    "train_seg_eval_df = train_seg_eval_df[[\"Emotion\", \"Valence\", \"Arousal\", \"Path\"]]"
   ]
  },
  {
   "cell_type": "markdown",
   "id": "b15970d6",
   "metadata": {},
   "source": [
    "## Merge test annotation and wav file path"
   ]
  },
  {
   "cell_type": "code",
   "execution_count": 48,
   "id": "e760744d",
   "metadata": {},
   "outputs": [],
   "source": [
    "test_seg_eval_df_list = []\n",
    "\n",
    "for an_file_path in test_an_file_paths:\n",
    "    file = pd.read_csv(an_file_path)\n",
    "    seg_eval = pd.concat([file.iloc[1:].filter(regex=\"^(Segment|Total)\"), file.iloc[1:,5:7]], axis=1)\n",
    "    seg_eval.columns = [\"Segment ID\", \"Total Evaluation\", \"Valence\", \"Arousal\"]\n",
    "    test_seg_eval_df_list.append(seg_eval)\n",
    "        \n",
    "test_seg_eval_df = pd.concat(test_seg_eval_df_list)\n",
    "test_seg_eval_df = test_seg_eval_df[~test_seg_eval_df[\"Total Evaluation\"].str.contains(\";\")]\n",
    "\n",
    "test_seg_eval_df = pd.merge(test_seg_eval_df, wav_path_df, on='Segment ID', how='left')\n",
    "        \n",
    "test_seg_eval_df.columns = [\"Segment ID\", \"Emotion\", \"Valence\", \"Arousal\", \"Path\"]\n",
    "test_seg_eval_df = test_seg_eval_df[[\"Emotion\", \"Valence\", \"Arousal\", \"Path\"]]"
   ]
  },
  {
   "cell_type": "markdown",
   "id": "900ab07a",
   "metadata": {},
   "source": [
    "## Save Train, Test file (Only KEMDy20)"
   ]
  },
  {
   "cell_type": "code",
   "execution_count": 49,
   "id": "5dfeb68e",
   "metadata": {},
   "outputs": [],
   "source": [
    "# 데이터 저장\n",
    "save_path = \"../../KEMDy20_v1_1/Splitting/\"\n",
    "if not os.path.exists(save_path):\n",
    "    os.mkdir(save_path)\n",
    "    \n",
    "train_seg_eval_df.to_csv(f\"{save_path}Train_Origin.csv\", encoding=\"utf-8\", index=False)\n",
    "test_seg_eval_df.to_csv(f\"{save_path}Test_Origin.csv\", encoding=\"utf-8\", index=False)"
   ]
  },
  {
   "cell_type": "markdown",
   "id": "6c3d0ce7",
   "metadata": {},
   "source": [
    "## Path setting (AI Hub)"
   ]
  },
  {
   "cell_type": "code",
   "execution_count": 15,
   "id": "850d24f6",
   "metadata": {},
   "outputs": [],
   "source": [
    "aug_wav_folder_path = \"../../AI_hub/wav/\"\n",
    "aug_an_file_path = \"../../AI_hub/annotation/5차년도_2차.csv\""
   ]
  },
  {
   "cell_type": "markdown",
   "id": "1082434d",
   "metadata": {},
   "source": [
    "## wav file path load"
   ]
  },
  {
   "cell_type": "code",
   "execution_count": 16,
   "id": "96785fa3",
   "metadata": {},
   "outputs": [],
   "source": [
    "aug_wav_file_paths = []\n",
    "for root, dirs, files in os.walk(aug_wav_folder_path):\n",
    "    for file in files:\n",
    "        file_path = os.path.join(root, file)\n",
    "        if file_path.endswith(\".wav\"): # .wav 확장자만 저장\n",
    "            aug_wav_file_paths.append(file_path)"
   ]
  },
  {
   "cell_type": "markdown",
   "id": "11dd7b8a",
   "metadata": {},
   "source": [
    "## anotation file path load"
   ]
  },
  {
   "cell_type": "code",
   "execution_count": 17,
   "id": "9b28e8d9",
   "metadata": {},
   "outputs": [],
   "source": [
    "aug_wav_path_df = pd.DataFrame(aug_wav_file_paths, columns=[\"Path\"])\n",
    "aug_wav_path_df[\"wav_id\"] = aug_wav_path_df[\"Path\"].apply(lambda x: x.split(\"/\")[4].split(\".\")[0])"
   ]
  },
  {
   "cell_type": "markdown",
   "id": "adf40e4a",
   "metadata": {},
   "source": [
    "## Merge annotation and wav file path & annotation mapping"
   ]
  },
  {
   "cell_type": "code",
   "execution_count": 18,
   "id": "d36f9b19",
   "metadata": {},
   "outputs": [],
   "source": [
    "aug_seg_eval_df = pd.read_csv(aug_an_file_path, encoding=\"cp949\")\n",
    "aug_seg_eval_df = aug_seg_eval_df[[\"wav_id\", \"상황\"]]\n",
    "\n",
    "aug_seg_eval_df = pd.merge(aug_seg_eval_df, aug_wav_path_df, on=\"wav_id\", how=\"left\")\n",
    "        \n",
    "aug_seg_eval_df.columns = [\"wav_id\", \"Emotion\", \"Path\"]\n",
    "aug_seg_eval_df = aug_seg_eval_df[[\"Emotion\", \"Path\"]]\n",
    "\n",
    "# 주어진 배열 정의\n",
    "train_label_names = np.array(['happiness', 'neutral', 'sadness', 'angry', 'surprise', 'disgust', 'fear'])\n",
    "aug_label_names = np.array(['happy', 'neutral', 'sad', 'angry', 'surprise', 'disqust', 'fear'])\n",
    "\n",
    "# 매핑 딕셔너리 생성\n",
    "mapping = dict(zip(train_label_names, aug_label_names))\n",
    "\n",
    "# 매핑을 이용하여 열 값 변경\n",
    "aug_seg_eval_df['Emotion'] = aug_seg_eval_df['Emotion'].map(mapping)"
   ]
  },
  {
   "cell_type": "markdown",
   "id": "660e1bd4",
   "metadata": {},
   "source": [
    "## Train, Test split"
   ]
  },
  {
   "cell_type": "code",
   "execution_count": 20,
   "id": "830ca980",
   "metadata": {},
   "outputs": [],
   "source": [
    "# 데이터 프레임의 인덱스를 섞기\n",
    "aug_seg_eval_df = aug_seg_eval_df.sample(frac=1, random_state=42)\n",
    "\n",
    "# 데이터 프레임을 train과 test set으로 나누기\n",
    "train_size = int(len(aug_seg_eval_df) * 0.8)\n",
    "train_aug_seg_eval_df = aug_seg_eval_df[:train_size]\n",
    "test_aug_seg_eval_df = aug_seg_eval_df[train_size:]"
   ]
  },
  {
   "cell_type": "markdown",
   "id": "b773a491",
   "metadata": {},
   "source": [
    "## Merge KEMDy20 and AI Hub"
   ]
  },
  {
   "cell_type": "code",
   "execution_count": 23,
   "id": "d3a57ec2",
   "metadata": {},
   "outputs": [],
   "source": [
    "train_df = pd.concat([train_seg_eval_df, train_aug_seg_eval_df], axis=0)\n",
    "test_df = pd.concat([test_seg_eval_df, test_aug_seg_eval_df], axis=0)"
   ]
  },
  {
   "cell_type": "markdown",
   "id": "9b0ee388",
   "metadata": {},
   "source": [
    "## Save Train, Test file (KEMDy20 + AI Hub)"
   ]
  },
  {
   "cell_type": "code",
   "execution_count": 32,
   "id": "f35c4f37",
   "metadata": {},
   "outputs": [],
   "source": [
    "# 데이터 저장\n",
    "save_path = \"../../KEMDy20_v1_1/Splitting/\"\n",
    "if not os.path.exists(save_path):\n",
    "    os.mkdir(save_path)\n",
    "    \n",
    "train_df.to_csv(f\"{save_path}Train.csv\", encoding=\"utf-8\", index=False)\n",
    "test_df.to_csv(f\"{save_path}Test.csv\", encoding=\"utf-8\", index=False)"
   ]
  }
 ],
 "metadata": {
  "kernelspec": {
   "display_name": "Python 3 (ipykernel)",
   "language": "python",
   "name": "python3"
  },
  "language_info": {
   "codemirror_mode": {
    "name": "ipython",
    "version": 3
   },
   "file_extension": ".py",
   "mimetype": "text/x-python",
   "name": "python",
   "nbconvert_exporter": "python",
   "pygments_lexer": "ipython3",
   "version": "3.9.16"
  }
 },
 "nbformat": 4,
 "nbformat_minor": 5
}
