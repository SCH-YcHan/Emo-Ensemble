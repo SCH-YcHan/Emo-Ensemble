{
 "cells": [
  {
   "cell_type": "markdown",
   "id": "df1ecb25",
   "metadata": {},
   "source": [
    "## Package load"
   ]
  },
  {
   "cell_type": "code",
   "execution_count": 4,
   "id": "37125259",
   "metadata": {},
   "outputs": [],
   "source": [
    "import random\n",
    "import numpy as np\n",
    "import pandas as pd\n",
    "\n",
    "from keras.utils import to_categorical\n",
    "from sklearn.preprocessing import LabelEncoder\n",
    "from sklearn.metrics import classification_report"
   ]
  },
  {
   "cell_type": "markdown",
   "id": "3923aade",
   "metadata": {},
   "source": [
    "## Load pred probability"
   ]
  },
  {
   "cell_type": "code",
   "execution_count": 2,
   "id": "bc55965f",
   "metadata": {},
   "outputs": [],
   "source": [
    "wav2vec_pred = np.load(\"../../KEMDy20_v1_1/pred/wav2vec.npz\")[\"predict_prob\"]\n",
    "wav2vec_R_pred = np.load(\"../../KEMDy20_v1_1/pred/wav2vec_R.npz\")[\"predict_prob\"]\n",
    "kobert_03_pred = np.load(\"../../KEMDy20_v1_1/pred/KoBERT_03.npz\")[\"predict_prob\"]\n",
    "kobert_05_pred = np.load(\"../../KEMDy20_v1_1/pred/KoBERT_05.npz\")[\"predict_prob\"]\n",
    "kobert_07_pred = np.load(\"../../KEMDy20_v1_1/pred/KoBERT_07.npz\")[\"predict_prob\"]\n",
    "test_y = pd.read_csv(\"../../KEMDy20_v1_1/Splitting/Test.csv\").Emotion.values"
   ]
  },
  {
   "cell_type": "markdown",
   "id": "bf73bcc6",
   "metadata": {},
   "source": [
    "## Label encoding"
   ]
  },
  {
   "cell_type": "code",
   "execution_count": 3,
   "id": "db3ad792",
   "metadata": {},
   "outputs": [],
   "source": [
    "le = LabelEncoder()\n",
    "le.fit(test_y)\n",
    "test_y = le.transform(test_y)"
   ]
  },
  {
   "cell_type": "code",
   "execution_count": 4,
   "id": "11073408",
   "metadata": {},
   "outputs": [
    {
     "name": "stdout",
     "output_type": "stream",
     "text": [
      "(6312, 7)\n",
      "(6312, 7)\n",
      "(6312, 7)\n",
      "(6312, 7)\n",
      "(6312, 7)\n",
      "(6312,)\n"
     ]
    }
   ],
   "source": [
    "print(wav2vec_pred.shape)\n",
    "print(wav2vec_R_pred.shape)\n",
    "print(kobert_03_pred.shape)\n",
    "print(kobert_05_pred.shape)\n",
    "print(kobert_07_pred.shape)\n",
    "print(test_y.shape)"
   ]
  },
  {
   "cell_type": "markdown",
   "id": "0a3cd6fb",
   "metadata": {},
   "source": [
    "## Ensemble"
   ]
  },
  {
   "cell_type": "code",
   "execution_count": 5,
   "id": "adcf0b6d",
   "metadata": {},
   "outputs": [],
   "source": [
    "wav2vec_bert_test_pred = (wav2vec_pred*0.25 + wav2vec_R_pred*0.25 + kobert_03_pred*0.16666666 + kobert_05_pred*0.16666666 + kobert_07_pred*0.16666666)"
   ]
  },
  {
   "cell_type": "markdown",
   "id": "ac68e162",
   "metadata": {},
   "source": [
    "## Probability to argmax"
   ]
  },
  {
   "cell_type": "code",
   "execution_count": 7,
   "id": "bc535b0f",
   "metadata": {},
   "outputs": [],
   "source": [
    "wav2vec_y = np.argmax(wav2vec_pred, axis=1)\n",
    "wav2vec_R_y = np.argmax(wav2vec_R_pred, axis=1)\n",
    "kobert_03_y = np.argmax(kobert_03_pred, axis=1)\n",
    "kobert_05_y = np.argmax(kobert_05_pred, axis=1)\n",
    "kobert_07_y = np.argmax(kobert_07_pred, axis=1)\n",
    "wav2vec_bert_ensemble = np.argmax(wav2vec_bert_test_pred, axis=1)"
   ]
  },
  {
   "cell_type": "markdown",
   "id": "95277b97",
   "metadata": {},
   "source": [
    "## wav2vec2 emotion recognition (forward)"
   ]
  },
  {
   "cell_type": "code",
   "execution_count": 8,
   "id": "0111ed3e",
   "metadata": {},
   "outputs": [
    {
     "name": "stdout",
     "output_type": "stream",
     "text": [
      "              precision    recall  f1-score   support\n",
      "\n",
      "       angry     0.8051    0.8087    0.8069       664\n",
      "     disqust     0.8512    0.8277    0.8393       470\n",
      "        fear     0.8322    0.8522    0.8421       291\n",
      "       happy     0.8648    0.8165    0.8399      1128\n",
      "     neutral     0.8957    0.9278    0.9115      2741\n",
      "         sad     0.7922    0.8060    0.7991       629\n",
      "    surprise     0.9104    0.8098    0.8571       389\n",
      "\n",
      "    accuracy                         0.8650      6312\n",
      "   macro avg     0.8502    0.8355    0.8423      6312\n",
      "weighted avg     0.8650    0.8650    0.8646      6312\n",
      "\n"
     ]
    }
   ],
   "source": [
    "print(classification_report(test_y, wav2vec_y, target_names=le.classes_, digits=4))"
   ]
  },
  {
   "cell_type": "markdown",
   "id": "012278f6",
   "metadata": {},
   "source": [
    "## wav2vec2 emotion recognition (backward)"
   ]
  },
  {
   "cell_type": "code",
   "execution_count": 9,
   "id": "180b2aaa",
   "metadata": {},
   "outputs": [
    {
     "name": "stdout",
     "output_type": "stream",
     "text": [
      "              precision    recall  f1-score   support\n",
      "\n",
      "       angry     0.7304    0.6732    0.7006       664\n",
      "     disqust     0.7253    0.7638    0.7440       470\n",
      "        fear     0.7143    0.7732    0.7426       291\n",
      "       happy     0.7725    0.7465    0.7592      1128\n",
      "     neutral     0.8719    0.9186    0.8947      2741\n",
      "         sad     0.7766    0.6852    0.7280       629\n",
      "    surprise     0.8067    0.7404    0.7721       389\n",
      "\n",
      "    accuracy                         0.8096      6312\n",
      "   macro avg     0.7711    0.7573    0.7630      6312\n",
      "weighted avg     0.8075    0.8096    0.8077      6312\n",
      "\n"
     ]
    }
   ],
   "source": [
    "print(classification_report(test_y, wav2vec_R_y, target_names=le.classes_, digits=4))"
   ]
  },
  {
   "cell_type": "markdown",
   "id": "7400c324",
   "metadata": {},
   "source": [
    "## KoBERT emotion recognition (dr_rate=0.3)"
   ]
  },
  {
   "cell_type": "code",
   "execution_count": 10,
   "id": "4a887b75",
   "metadata": {},
   "outputs": [
    {
     "name": "stdout",
     "output_type": "stream",
     "text": [
      "              precision    recall  f1-score   support\n",
      "\n",
      "       angry     0.9057    0.7952    0.8468       664\n",
      "     disqust     0.9188    0.8426    0.8790       470\n",
      "        fear     0.9524    0.8935    0.9220       291\n",
      "       happy     0.8878    0.8351    0.8607      1128\n",
      "     neutral     0.8416    0.9402    0.8882      2741\n",
      "         sad     0.9162    0.8172    0.8639       629\n",
      "    surprise     0.9648    0.8458    0.9014       389\n",
      "\n",
      "    accuracy                         0.8786      6312\n",
      "   macro avg     0.9125    0.8528    0.8803      6312\n",
      "weighted avg     0.8825    0.8786    0.8782      6312\n",
      "\n"
     ]
    }
   ],
   "source": [
    "print(classification_report(test_y, kobert_03_y, target_names=le.classes_, digits=4))"
   ]
  },
  {
   "cell_type": "markdown",
   "id": "7debf125",
   "metadata": {},
   "source": [
    "## KoBERT emotion recognition (dr_rate=0.5)"
   ]
  },
  {
   "cell_type": "code",
   "execution_count": 11,
   "id": "19da1fd7",
   "metadata": {},
   "outputs": [
    {
     "name": "stdout",
     "output_type": "stream",
     "text": [
      "              precision    recall  f1-score   support\n",
      "\n",
      "       angry     0.9038    0.8343    0.8677       664\n",
      "     disqust     0.9085    0.8872    0.8977       470\n",
      "        fear     0.9498    0.9107    0.9298       291\n",
      "       happy     0.8971    0.8271    0.8607      1128\n",
      "     neutral     0.8734    0.9486    0.9094      2741\n",
      "         sad     0.8961    0.8362    0.8651       629\n",
      "    surprise     0.9468    0.8689    0.9062       389\n",
      "\n",
      "    accuracy                         0.8924      6312\n",
      "   macro avg     0.9108    0.8733    0.8909      6312\n",
      "weighted avg     0.8937    0.8924    0.8918      6312\n",
      "\n"
     ]
    }
   ],
   "source": [
    "print(classification_report(test_y, kobert_05_y, target_names=le.classes_, digits=4))"
   ]
  },
  {
   "cell_type": "markdown",
   "id": "b4b63ea5",
   "metadata": {},
   "source": [
    "## KoBERT emotion recognition (dr_rate=0.7)"
   ]
  },
  {
   "cell_type": "code",
   "execution_count": 12,
   "id": "62fc64ea",
   "metadata": {},
   "outputs": [
    {
     "name": "stdout",
     "output_type": "stream",
     "text": [
      "              precision    recall  f1-score   support\n",
      "\n",
      "       angry     0.9055    0.7937    0.8459       664\n",
      "     disqust     0.9011    0.8532    0.8765       470\n",
      "        fear     0.9483    0.8832    0.9146       291\n",
      "       happy     0.9014    0.8351    0.8670      1128\n",
      "     neutral     0.8490    0.9453    0.8945      2741\n",
      "         sad     0.9126    0.8299    0.8693       629\n",
      "    surprise     0.9478    0.8406    0.8910       389\n",
      "\n",
      "    accuracy                         0.8820      6312\n",
      "   macro avg     0.9094    0.8544    0.8798      6312\n",
      "weighted avg     0.8852    0.8820    0.8813      6312\n",
      "\n"
     ]
    }
   ],
   "source": [
    "print(classification_report(test_y, kobert_07_y, target_names=le.classes_, digits=4))"
   ]
  },
  {
   "cell_type": "markdown",
   "id": "ce537fad",
   "metadata": {},
   "source": [
    "## Ensemble emotion recognition"
   ]
  },
  {
   "cell_type": "code",
   "execution_count": 13,
   "id": "9dc25b9d",
   "metadata": {},
   "outputs": [
    {
     "name": "stdout",
     "output_type": "stream",
     "text": [
      "              precision    recall  f1-score   support\n",
      "\n",
      "       angry     0.9356    0.8313    0.8804       664\n",
      "     disqust     0.9193    0.8723    0.8952       470\n",
      "        fear     0.9636    0.9107    0.9364       291\n",
      "       happy     0.9338    0.8378    0.8832      1128\n",
      "     neutral     0.8689    0.9770    0.9198      2741\n",
      "         sad     0.9246    0.8378    0.8791       629\n",
      "    surprise     0.9852    0.8535    0.9146       389\n",
      "\n",
      "    accuracy                         0.9045      6312\n",
      "   macro avg     0.9330    0.8743    0.9012      6312\n",
      "weighted avg     0.9084    0.9045    0.9037      6312\n",
      "\n"
     ]
    }
   ],
   "source": [
    "print(classification_report(test_y, wav2vec_bert_ensemble, target_names=le.classes_, digits=4))"
   ]
  },
  {
   "cell_type": "code",
   "execution_count": null,
   "id": "a200230c",
   "metadata": {},
   "outputs": [],
   "source": []
  }
 ],
 "metadata": {
  "kernelspec": {
   "display_name": "Python 3 (ipykernel)",
   "language": "python",
   "name": "python3"
  },
  "language_info": {
   "codemirror_mode": {
    "name": "ipython",
    "version": 3
   },
   "file_extension": ".py",
   "mimetype": "text/x-python",
   "name": "python",
   "nbconvert_exporter": "python",
   "pygments_lexer": "ipython3",
   "version": "3.9.16"
  }
 },
 "nbformat": 4,
 "nbformat_minor": 5
}
