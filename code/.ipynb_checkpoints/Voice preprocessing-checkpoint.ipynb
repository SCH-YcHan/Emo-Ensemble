{
 "cells": [
  {
   "cell_type": "code",
   "execution_count": 1,
   "id": "98351671",
   "metadata": {},
   "outputs": [],
   "source": [
    "import os\n",
    "import librosa\n",
    "import pandas as pd\n",
    "import numpy as np"
   ]
  },
  {
   "cell_type": "code",
   "execution_count": 2,
   "id": "1bab3044",
   "metadata": {},
   "outputs": [],
   "source": [
    "wav_folder_path = \"../../KEMDy20_v1_1/wav/\""
   ]
  },
  {
   "cell_type": "code",
   "execution_count": 3,
   "id": "91c43ad0",
   "metadata": {},
   "outputs": [],
   "source": [
    "wav_file_paths = []\n",
    "for root, dirs, files in os.walk(wav_folder_path):\n",
    "    for file in files:\n",
    "        file_path = os.path.join(root, file)\n",
    "        if file_path.endswith(\".wav\"): # .wav 확장자만 저장\n",
    "            wav_file_paths.append(file_path)"
   ]
  },
  {
   "cell_type": "code",
   "execution_count": 4,
   "id": "f3cdfeca",
   "metadata": {},
   "outputs": [],
   "source": [
    "def get_feature(file_path: str, mfcc_len: int = 30, mean_signal_length: int = 88000):\n",
    "    #file_path: Speech signal folder\n",
    "    #mfcc_len: MFCC coefficient length\n",
    "    #mean_signal_length: MFCC feature average length\n",
    "        \n",
    "    signal, fs = librosa.load(file_path)\n",
    "    s_len = len(signal)\n",
    "\n",
    "    if s_len < mean_signal_length:\n",
    "        pad_len = mean_signal_length - s_len\n",
    "        pad_rem = pad_len % 2\n",
    "        pad_len //= 2\n",
    "        signal = np.pad(signal, (pad_len, pad_len + pad_rem), 'constant', constant_values = 0)\n",
    "    else:\n",
    "        pad_len = s_len - mean_signal_length\n",
    "        pad_len //= 2\n",
    "        signal = signal[pad_len:pad_len + mean_signal_length]\n",
    "    mfcc = librosa.feature.mfcc(y=signal, sr=fs, n_mfcc=mfcc_len)\n",
    "    mfcc = mfcc.T\n",
    "    feature = mfcc\n",
    "    return feature"
   ]
  },
  {
   "cell_type": "code",
   "execution_count": 5,
   "id": "1250d948",
   "metadata": {},
   "outputs": [],
   "source": [
    "annotation_prob = pd.read_csv(\"../../KEMDy20_v1_1/labels/Annotation_prob.csv\")\n",
    "annotation_multi = pd.read_csv(\"../../KEMDy20_v1_1/labels/Annotation_multi.csv\")"
   ]
  },
  {
   "cell_type": "code",
   "execution_count": 7,
   "id": "0485e9cb",
   "metadata": {},
   "outputs": [],
   "source": [
    "annotation_prob['Sess'] = annotation_prob['Segment ID'].str.extract('(Sess\\d+)', expand=False)\n",
    "annotation_multi['Sess'] = annotation_multi['Segment ID'].str.extract('(Sess\\d+)', expand=False)"
   ]
  },
  {
   "cell_type": "code",
   "execution_count": null,
   "id": "7f294fba",
   "metadata": {},
   "outputs": [
    {
     "name": "stdout",
     "output_type": "stream",
     "text": [
      "Sess01 Complete !\n",
      "Sess02 Complete !\n",
      "Sess03 Complete !\n",
      "Sess04 Complete !\n",
      "Sess05 Complete !\n",
      "Sess06 Complete !\n",
      "Sess07 Complete !\n",
      "Sess08 Complete !\n",
      "Sess09 Complete !\n",
      "Sess10 Complete !\n",
      "Sess11 Complete !\n",
      "Sess12 Complete !\n",
      "Sess13 Complete !\n",
      "Sess14 Complete !\n",
      "Sess15 Complete !\n",
      "Sess16 Complete !\n",
      "Sess17 Complete !\n",
      "Sess18 Complete !\n",
      "Sess19 Complete !\n",
      "Sess20 Complete !\n",
      "Sess21 Complete !\n"
     ]
    }
   ],
   "source": [
    "folder_name = \"../../KEMDy20_v1_1/mfcc_npz/\"\n",
    "if not os.path.exists(folder_name): \n",
    "    os.makedirs(folder_name)\n",
    "\n",
    "for sess in np.unique(annotation_prob[\"Sess\"]): \n",
    "    feature_list = []\n",
    "    prob_label_list = []\n",
    "    multi_label_list = []\n",
    "    \n",
    "    for wav_file_path in wav_file_paths:\n",
    "        seg_id = wav_file_path.split(\"\\\\\")[1][:-4]\n",
    "        sess_id = seg_id.split(\"_\")[0]\n",
    "        \n",
    "        if sess_id==sess:\n",
    "            feature = get_feature(wav_file_path)\n",
    "            feature_list.append(feature)\n",
    "            \n",
    "            prob_label = annotation_prob[annotation_prob[\"Segment ID\"]==seg_id].values[0][1:-1].astype(float)\n",
    "            prob_label_list.append(prob_label)\n",
    "            \n",
    "            multi_label = annotation_multi[annotation_multi[\"Segment ID\"]==seg_id].values[0][1:-1].astype(float)\n",
    "            multi_label_list.append(multi_label)\n",
    "            \n",
    "    feature_array = np.stack(feature_list)\n",
    "    prob_label_array = np.stack(prob_label_list)\n",
    "    multi_label_array = np.stack(multi_label_list)\n",
    "    \n",
    "    np.savez(folder_name+sess,\n",
    "             features = feature_array,\n",
    "             prob_labels = prob_label_array,\n",
    "             multi_labels = multi_label_array)\n",
    "    \n",
    "    print(sess+\" Complete !\")"
   ]
  },
  {
   "cell_type": "code",
   "execution_count": null,
   "id": "1e17211f",
   "metadata": {},
   "outputs": [],
   "source": []
  }
 ],
 "metadata": {
  "kernelspec": {
   "display_name": "Python 3 (ipykernel)",
   "language": "python",
   "name": "python3"
  },
  "language_info": {
   "codemirror_mode": {
    "name": "ipython",
    "version": 3
   },
   "file_extension": ".py",
   "mimetype": "text/x-python",
   "name": "python",
   "nbconvert_exporter": "python",
   "pygments_lexer": "ipython3",
   "version": "3.9.16"
  }
 },
 "nbformat": 4,
 "nbformat_minor": 5
}
