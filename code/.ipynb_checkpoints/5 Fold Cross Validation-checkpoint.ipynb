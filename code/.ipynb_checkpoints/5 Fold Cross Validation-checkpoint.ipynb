{
 "cells": [
  {
   "cell_type": "code",
   "execution_count": 1,
   "id": "5419f41f",
   "metadata": {},
   "outputs": [],
   "source": [
    "import os\n",
    "import numpy as np\n",
    "\n",
    "from sklearn.model_selection import KFold"
   ]
  },
  {
   "cell_type": "code",
   "execution_count": 2,
   "id": "c47572c2",
   "metadata": {},
   "outputs": [],
   "source": [
    "folder_name = \"../../KEMDy20_v1_1/mfcc_npz/\""
   ]
  },
  {
   "cell_type": "code",
   "execution_count": 3,
   "id": "08de0a47",
   "metadata": {},
   "outputs": [],
   "source": [
    "file_list = os.listdir(folder_name)"
   ]
  },
  {
   "cell_type": "code",
   "execution_count": 4,
   "id": "2f52708f",
   "metadata": {},
   "outputs": [],
   "source": [
    "def load_data(file_path, label_type):\n",
    "    x_list, y_list = [], []\n",
    "    for file in file_path:\n",
    "        data = np.load(folder_name+file)\n",
    "        x = data['features']\n",
    "        if label_type==\"prob\":\n",
    "            y = data['prob_labels']\n",
    "        elif label_type==\"multi\":\n",
    "            y = data[\"multi_labels\"]\n",
    "        else:\n",
    "            y = None\n",
    "        x_list.append(x)\n",
    "        y_list.append(y)\n",
    "    x = np.concatenate(x_list, axis=0)\n",
    "    y = np.concatenate(y_list, axis=0)\n",
    "    return x, y"
   ]
  },
  {
   "cell_type": "code",
   "execution_count": 5,
   "id": "18b09db1",
   "metadata": {},
   "outputs": [],
   "source": [
    "kfold = KFold(n_splits=5, shuffle=True, random_state=42)"
   ]
  },
  {
   "cell_type": "code",
   "execution_count": 6,
   "id": "bdf017be",
   "metadata": {},
   "outputs": [],
   "source": [
    "save_folder_name = \"../../KEMDy20_v1_1/Fold/\"\n",
    "if not os.path.exists(save_folder_name): \n",
    "    os.makedirs(save_folder_name)\n",
    "\n",
    "# cross-validation 실행\n",
    "for fold_idx, (train_files, test_files) in enumerate(kfold.split(file_list)):\n",
    "    # 훈련 데이터와 검증 데이터 로딩\n",
    "    train_x, train_py = load_data([file_list[i] for i in train_files], \"prob\")\n",
    "    test_x, test_py = load_data([file_list[i] for i in test_files], \"prob\")\n",
    "    train_x, train_my = load_data([file_list[i] for i in train_files], \"multi\")\n",
    "    test_x, test_my = load_data([file_list[i] for i in test_files], \"multi\")\n",
    "    \n",
    "    np.savez(save_folder_name+\"Fold\"+str(fold_idx),\n",
    "             train_x = train_x,\n",
    "             train_py = train_py,\n",
    "             train_my = train_my,\n",
    "             test_x = test_x,\n",
    "             test_py = test_py,\n",
    "             test_my = test_my)"
   ]
  },
  {
   "cell_type": "code",
   "execution_count": null,
   "id": "810f0b4b",
   "metadata": {},
   "outputs": [],
   "source": []
  }
 ],
 "metadata": {
  "kernelspec": {
   "display_name": "Python 3 (ipykernel)",
   "language": "python",
   "name": "python3"
  },
  "language_info": {
   "codemirror_mode": {
    "name": "ipython",
    "version": 3
   },
   "file_extension": ".py",
   "mimetype": "text/x-python",
   "name": "python",
   "nbconvert_exporter": "python",
   "pygments_lexer": "ipython3",
   "version": "3.9.16"
  }
 },
 "nbformat": 4,
 "nbformat_minor": 5
}
