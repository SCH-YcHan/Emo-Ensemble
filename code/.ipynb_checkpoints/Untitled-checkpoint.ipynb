{
 "cells": [
  {
   "cell_type": "code",
   "execution_count": 2,
   "id": "055d467e",
   "metadata": {},
   "outputs": [],
   "source": [
    "import os\n",
    "import pandas as pd\n",
    "import numpy as np"
   ]
  },
  {
   "cell_type": "code",
   "execution_count": 8,
   "id": "c5bb50b3",
   "metadata": {},
   "outputs": [],
   "source": [
    "EMODB_path = \"../../TIM-Net_SER/Code/MFCC/\""
   ]
  },
  {
   "cell_type": "code",
   "execution_count": 10,
   "id": "eac90a2f",
   "metadata": {},
   "outputs": [],
   "source": [
    "data = np.load(EMODB_path + \"EMODB.npy\",allow_pickle=True).item()\n",
    "x_source = data[\"x\"]\n",
    "y_source = data[\"y\"]"
   ]
  },
  {
   "cell_type": "code",
   "execution_count": 15,
   "id": "85051800",
   "metadata": {},
   "outputs": [
    {
     "name": "stdout",
     "output_type": "stream",
     "text": [
      "(535, 188, 39)\n",
      "(535, 7)\n"
     ]
    }
   ],
   "source": [
    "print(np.shape(x_source))\n",
    "print(np.shape(y_source))"
   ]
  },
  {
   "cell_type": "code",
   "execution_count": 20,
   "id": "4efcf52d",
   "metadata": {},
   "outputs": [
    {
     "data": {
      "text/plain": [
       "0    127.0\n",
       "1     81.0\n",
       "2     46.0\n",
       "3     69.0\n",
       "4     71.0\n",
       "5     79.0\n",
       "6     62.0\n",
       "dtype: float32"
      ]
     },
     "execution_count": 20,
     "metadata": {},
     "output_type": "execute_result"
    }
   ],
   "source": [
    "pd.DataFrame(y_source).sum()"
   ]
  },
  {
   "cell_type": "code",
   "execution_count": 21,
   "id": "4c609412",
   "metadata": {},
   "outputs": [],
   "source": [
    "data2 = np.load(EMODB_path + \"KEMD.npz\")\n",
    "x_source2 = data2[\"x\"]\n",
    "y_source2 = data2[\"y\"]"
   ]
  },
  {
   "cell_type": "code",
   "execution_count": 22,
   "id": "1b6fadf9",
   "metadata": {},
   "outputs": [
    {
     "name": "stdout",
     "output_type": "stream",
     "text": [
      "(13462, 196, 32)\n",
      "(13462, 7)\n"
     ]
    }
   ],
   "source": [
    "print(np.shape(x_source2))\n",
    "print(np.shape(y_source2))"
   ]
  },
  {
   "cell_type": "code",
   "execution_count": 24,
   "id": "474c0113",
   "metadata": {},
   "outputs": [
    {
     "data": {
      "text/plain": [
       "0       0\n",
       "1       0\n",
       "2       0\n",
       "3      37\n",
       "4    2741\n",
       "5       3\n",
       "6       2\n",
       "dtype: int64"
      ]
     },
     "execution_count": 24,
     "metadata": {},
     "output_type": "execute_result"
    }
   ],
   "source": [
    "pd.DataFrame(y_source2).sum()"
   ]
  },
  {
   "cell_type": "code",
   "execution_count": 26,
   "id": "9aebd52d",
   "metadata": {},
   "outputs": [
    {
     "data": {
      "text/plain": [
       "(13462, 7)"
      ]
     },
     "execution_count": 26,
     "metadata": {},
     "output_type": "execute_result"
    }
   ],
   "source": [
    "np.shape(y_source2)"
   ]
  },
  {
   "cell_type": "code",
   "execution_count": 6,
   "id": "63b9c5a4",
   "metadata": {},
   "outputs": [],
   "source": [
    "data3 = np.load(\"../../KEMDy20_v1_1/mfcc_npz/Prob_32_100000.npz\")\n",
    "x_source3 = data3[\"x\"]\n",
    "y_source3 = data3[\"y\"]"
   ]
  },
  {
   "cell_type": "code",
   "execution_count": 7,
   "id": "341f5e24",
   "metadata": {},
   "outputs": [
    {
     "name": "stdout",
     "output_type": "stream",
     "text": [
      "(13462, 196, 32)\n",
      "(13462, 7)\n"
     ]
    }
   ],
   "source": [
    "print(np.shape(x_source3))\n",
    "print(np.shape(y_source3))"
   ]
  },
  {
   "cell_type": "code",
   "execution_count": 8,
   "id": "bb87e50a",
   "metadata": {},
   "outputs": [
    {
     "data": {
      "text/plain": [
       "0     420.7\n",
       "1     372.6\n",
       "2     122.0\n",
       "3    1730.9\n",
       "4    9797.3\n",
       "5     519.3\n",
       "6     499.2\n",
       "dtype: float64"
      ]
     },
     "execution_count": 8,
     "metadata": {},
     "output_type": "execute_result"
    }
   ],
   "source": [
    "pd.DataFrame(y_source3).sum()"
   ]
  },
  {
   "cell_type": "code",
   "execution_count": null,
   "id": "1fe02239",
   "metadata": {},
   "outputs": [],
   "source": []
  }
 ],
 "metadata": {
  "kernelspec": {
   "display_name": "Python 3 (ipykernel)",
   "language": "python",
   "name": "python3"
  },
  "language_info": {
   "codemirror_mode": {
    "name": "ipython",
    "version": 3
   },
   "file_extension": ".py",
   "mimetype": "text/x-python",
   "name": "python",
   "nbconvert_exporter": "python",
   "pygments_lexer": "ipython3",
   "version": "3.9.16"
  }
 },
 "nbformat": 4,
 "nbformat_minor": 5
}
