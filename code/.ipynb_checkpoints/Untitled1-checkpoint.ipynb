{
 "cells": [
  {
   "cell_type": "code",
   "execution_count": 47,
   "id": "495e0534",
   "metadata": {},
   "outputs": [],
   "source": [
    "import pandas as pd\n",
    "import numpy as np\n",
    "import xgboost as xgb\n",
    "from sklearn.metrics import classification_report\n",
    "from sklearn.metrics import confusion_matrix\n",
    "from sklearn.preprocessing import OneHotEncoder\n",
    "from sklearn.metrics import mean_squared_error\n",
    "from sklearn.model_selection import train_test_split"
   ]
  },
  {
   "cell_type": "code",
   "execution_count": 48,
   "id": "1b735d55",
   "metadata": {},
   "outputs": [],
   "source": [
    "train = np.load(\"../../KEMDy20_v1_1/tsne/Tune_tsne_train.npz\")\n",
    "test = np.load(\"../../KEMDy20_v1_1/tsne/Tune_tsne_test.npz\")"
   ]
  },
  {
   "cell_type": "code",
   "execution_count": 49,
   "id": "f7a4f2bb",
   "metadata": {},
   "outputs": [],
   "source": [
    "train_x = train[\"x\"].reshape((25890,30))\n",
    "train_y = train[\"y\"].reshape((25890,7))\n",
    "train_y= np.argmax(train_y, axis=1)\n",
    "\n",
    "test_x = test[\"x\"].reshape((6312,30))\n",
    "test_y = test[\"y\"].reshape((6312,7))\n",
    "test_y= np.argmax(test_y, axis=1)"
   ]
  },
  {
   "cell_type": "code",
   "execution_count": 50,
   "id": "a90d9e5d",
   "metadata": {},
   "outputs": [
    {
     "name": "stdout",
     "output_type": "stream",
     "text": [
      "Accuracy: 0.663498\n"
     ]
    }
   ],
   "source": [
    "# XGBoost 모델 설정\n",
    "xgb_model = xgb.XGBClassifier(\n",
    "    objective ='multi:softprob',\n",
    "    num_class=7,\n",
    "    colsample_bytree = 0.3,\n",
    "    learning_rate = 0.1,\n",
    "    max_depth = 5,\n",
    "    alpha = 10,\n",
    "    n_estimators = 100\n",
    ")\n",
    "\n",
    "# 모델 학습\n",
    "xgb_model.fit(train_x, train_y)\n",
    "\n",
    "# 검증 데이터에 대한 예측 수행\n",
    "y_pred = xgb_model.predict_proba(test_x)\n",
    "\n",
    "# 정확도 출력\n",
    "accuracy = accuracy_score(test_y, y_pred.argmax(axis=1))\n",
    "print(\"Accuracy: %f\" % (accuracy))"
   ]
  },
  {
   "cell_type": "code",
   "execution_count": null,
   "id": "bba35a68",
   "metadata": {},
   "outputs": [],
   "source": []
  }
 ],
 "metadata": {
  "kernelspec": {
   "display_name": "Python 3 (ipykernel)",
   "language": "python",
   "name": "python3"
  },
  "language_info": {
   "codemirror_mode": {
    "name": "ipython",
    "version": 3
   },
   "file_extension": ".py",
   "mimetype": "text/x-python",
   "name": "python",
   "nbconvert_exporter": "python",
   "pygments_lexer": "ipython3",
   "version": "3.9.16"
  }
 },
 "nbformat": 4,
 "nbformat_minor": 5
}
